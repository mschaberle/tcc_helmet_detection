{
 "cells": [
  {
   "cell_type": "code",
   "execution_count": null,
   "metadata": {},
   "outputs": [],
   "source": [
    "import ultralytics\n",
    "from ultralytics import YOLO\n",
    "import math\n",
    "import cv2\n",
    "import numpy as np\n",
    "from flask import Flask, render_template, Response, request\n",
    "import openvino as ov"
   ]
  },
  {
   "cell_type": "code",
   "execution_count": null,
   "metadata": {},
   "outputs": [],
   "source": [
    "# model\n",
    "model = YOLO('C:\\\\Users\\\\SIMATIC\\\\Documents\\\\helmet_n_openvino_model', task='detect') #C:\\Users\\SIMATIC\\Documents\\helmet_n.pt\n",
    "\n",
    "# object classes\n",
    "classNames = [\"cabeca\",\"capacete\",\"pessoa\"]\n"
   ]
  },
  {
   "cell_type": "code",
   "execution_count": null,
   "metadata": {},
   "outputs": [],
   "source": [
    "#web server\n",
    "\n",
    "app = Flask(__name__)\n",
    "\n",
    "#webcam\n",
    "\n",
    "camera = cv2.VideoCapture(0)\n",
    "#camera.set(3, 640)\n",
    "#camera.set(4, 640)\n",
    "\n",
    "def gen_frames():\n",
    "    while True:\n",
    "        success, frame = camera.read()\n",
    "        results = model(frame, stream=True)\n",
    "        if not success:\n",
    "            break\n",
    "        else:\n",
    "            #Faz as caixas de identificaçao\n",
    "            for r in results:\n",
    "                boxes = r.boxes\n",
    "                for box in boxes:\n",
    "                    # bounding box\n",
    "                    x1, y1, x2, y2 = box.xyxy[0]\n",
    "                    x1, y1, x2, y2 = int(x1), int(y1), int(x2), int(y2) # convert to int values\n",
    "\n",
    "                    # put box in cam\n",
    "                    cv2.rectangle(frame, (x1, y1), (x2, y2), (255, 0, 255), 3)\n",
    "\n",
    "                    # confidence\n",
    "                    confidence = math.ceil((box.conf[0]*100))/100\n",
    "                    print(\"Confidence --->\",confidence)\n",
    "\n",
    "                    # class name\n",
    "                    cls = int(box.cls[0])\n",
    "                    print(\"Class name -->\", classNames[cls])\n",
    "\n",
    "                    # object details\n",
    "                    org = [x1, y1]\n",
    "                    font = cv2.FONT_HERSHEY_SIMPLEX\n",
    "                    fontScale = 1\n",
    "                    color = (255, 0, 0)\n",
    "                    thickness = 2\n",
    "\n",
    "                    cv2.putText(frame, classNames[cls] + \" \" + str(confidence), org, font, fontScale, color, thickness)\n",
    "\n",
    "            #Projeta imagem no servidor web\n",
    "            ret, buffer = cv2.imencode('.jpg', frame)\n",
    "            frame = buffer.tobytes()\n",
    "            yield (b'--frame\\r\\n'\n",
    "                   b'Content-Type: image/jpeg\\r\\n\\r\\n' + frame + b'\\r\\n')\n",
    "\n",
    "@app.route('/')\n",
    "def index():\n",
    "    return Response(gen_frames(),\n",
    "                    mimetype='multipart/x-mixed-replace; boundary=frame')\n",
    "\n",
    "app.run(host='0.0.0.0', port=8020)"
   ]
  }
 ],
 "metadata": {
  "kernelspec": {
   "display_name": "Python 3",
   "language": "python",
   "name": "python3"
  },
  "language_info": {
   "codemirror_mode": {
    "name": "ipython",
    "version": 3
   },
   "file_extension": ".py",
   "mimetype": "text/x-python",
   "name": "python",
   "nbconvert_exporter": "python",
   "pygments_lexer": "ipython3",
   "version": "3.10.4"
  }
 },
 "nbformat": 4,
 "nbformat_minor": 2
}
